{
 "cells": [
  {
   "cell_type": "markdown",
   "metadata": {},
   "source": [
    "## MultiPerson Pose Estimation with YOLO+MediaPipe\n",
    "One of the weakness with mediapipe is it can only detect one person at a time, this makes it not the best solution when you want to monitor multiple people. To solve this problem we can incorporate other model that can detect people after that the model will crop the people and after that we can use the mediapipe model to work separately."
   ]
  },
  {
   "cell_type": "code",
   "execution_count": null,
   "metadata": {},
   "outputs": [],
   "source": []
  }
 ],
 "metadata": {
  "kernelspec": {
   "display_name": "Python 3 (ipykernel)",
   "language": "python",
   "name": "python3"
  }
 },
 "nbformat": 4,
 "nbformat_minor": 2
}
